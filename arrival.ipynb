{
 "cells": [
  {
   "cell_type": "code",
   "execution_count": 1,
   "metadata": {},
   "outputs": [
    {
     "name": "stdout",
     "output_type": "stream",
     "text": [
      "4.44\n"
     ]
    }
   ],
   "source": [
    "import pandas\n",
    "import numpy\n",
    "\n",
    "def firstArrival( delta, height ):\n",
    "    low = []\n",
    "    high = []\n",
    "    if (2 <= delta <=98) and (0 <= height <= 600):\n",
    "        data = pandas.read_csv('lut.csv')\n",
    "        lut = numpy.array(data)\n",
    "        for d in lut:\n",
    "            if delta <= d[0]:\n",
    "                high = d\n",
    "                break\n",
    "            low = d\n",
    "            high = d\n",
    "        if (delta % 2 == 0):\n",
    "            if 0 <= height <= 100:\n",
    "                highArrival = high[1] + ((high[2] - high[1])/100) * height\n",
    "                return (highArrival)\n",
    "            elif 100 < height <= 300:\n",
    "                highArrival = high[2] + ((high[3] - high[2])/200) * height\n",
    "                return (highArrival)\n",
    "            elif 300 < height <= 600:\n",
    "                highArrival = high[3] + ((high[4] - high[3])/300) * height\n",
    "                return (highArrival)\n",
    "        else:\n",
    "            microDelta = high[0] - low[0]\n",
    "            if 0 <= height <= 100:\n",
    "                lowArrival = low[1] + ((low[2] - low[1])/100) * height\n",
    "                highArrival = high[1] + ((high[2] - high[1])/100) * height\n",
    "                microArrival = highArrival - lowArrival\n",
    "                residue = microArrival * microDelta\n",
    "                return (lowArrival + residue)\n",
    "            elif 100 < height <= 300:\n",
    "                lowArrival = low[2] + ((low[3] - low[2])/200) * height\n",
    "                highArrival = high[2] + ((high[3] - high[2])/200) * height\n",
    "                microArrival = highArrival - lowArrival\n",
    "                residue = microArrival * microDelta\n",
    "                return (lowArrival + residue)\n",
    "            elif 300 < height <= 600:\n",
    "                lowArrival = low[2] + ((low[4] - low[2])/300) * height\n",
    "                highArrival = high[2] + ((high[4] - high[2])/300) * height\n",
    "                microArrival = highArrival - lowArrival\n",
    "                residue = microArrival * microDelta\n",
    "                return (lowArrival + residue)\n",
    "\n",
    "result = firstArrival(98,100) # result = firstArrival(delta,height)\n",
    "print(result)"
   ]
  }
 ],
 "metadata": {
  "kernelspec": {
   "display_name": "Python 3",
   "language": "python",
   "name": "python3"
  },
  "language_info": {
   "codemirror_mode": {
    "name": "ipython",
    "version": 3
   },
   "file_extension": ".py",
   "mimetype": "text/x-python",
   "name": "python",
   "nbconvert_exporter": "python",
   "pygments_lexer": "ipython3",
   "version": "3.7.4"
  }
 },
 "nbformat": 4,
 "nbformat_minor": 4
}
